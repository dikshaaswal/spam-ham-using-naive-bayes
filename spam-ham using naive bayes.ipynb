{
 "cells": [
  {
   "cell_type": "markdown",
   "metadata": {},
   "source": [
    "# Import libraries\n"
   ]
  },
  {
   "cell_type": "code",
   "execution_count": 1,
   "metadata": {},
   "outputs": [],
   "source": [
    "from nltk.tokenize import word_tokenize\n",
    "from nltk.corpus import stopwords\n",
    "from nltk.stem import PorterStemmer\n",
    "import matplotlib.pyplot as plt\n",
    "#from wordcloud import WordCloud\n",
    "from math import log, sqrt\n",
    "import pandas as pd\n",
    "import numpy as np\n",
    "import re\n",
    "%matplotlib inline\n",
    "import string"
   ]
  },
  {
   "cell_type": "markdown",
   "metadata": {},
   "source": [
    "# Retrieve Mail"
   ]
  },
  {
   "cell_type": "code",
   "execution_count": 2,
   "metadata": {},
   "outputs": [],
   "source": [
    "emails = pd.read_csv('spam.csv', encoding = 'latin-1', )\n"
   ]
  },
  {
   "cell_type": "markdown",
   "metadata": {},
   "source": [
    "# Preprocessing"
   ]
  },
  {
   "cell_type": "code",
   "execution_count": 3,
   "metadata": {},
   "outputs": [],
   "source": [
    "emails.drop(['Unnamed: 2', 'Unnamed: 3', 'Unnamed: 4'], axis = 1, inplace = True)\n"
   ]
  },
  {
   "cell_type": "code",
   "execution_count": 4,
   "metadata": {},
   "outputs": [
    {
     "data": {
      "text/html": [
       "<div>\n",
       "<style scoped>\n",
       "    .dataframe tbody tr th:only-of-type {\n",
       "        vertical-align: middle;\n",
       "    }\n",
       "\n",
       "    .dataframe tbody tr th {\n",
       "        vertical-align: top;\n",
       "    }\n",
       "\n",
       "    .dataframe thead th {\n",
       "        text-align: right;\n",
       "    }\n",
       "</style>\n",
       "<table border=\"1\" class=\"dataframe\">\n",
       "  <thead>\n",
       "    <tr style=\"text-align: right;\">\n",
       "      <th></th>\n",
       "      <th>spam/ham</th>\n",
       "      <th>email message</th>\n",
       "    </tr>\n",
       "  </thead>\n",
       "  <tbody>\n",
       "    <tr>\n",
       "      <th>0</th>\n",
       "      <td>ham</td>\n",
       "      <td>Go until jurong point, crazy.. Available only ...</td>\n",
       "    </tr>\n",
       "    <tr>\n",
       "      <th>1</th>\n",
       "      <td>ham</td>\n",
       "      <td>Ok lar... Joking wif u oni...</td>\n",
       "    </tr>\n",
       "    <tr>\n",
       "      <th>2</th>\n",
       "      <td>spam</td>\n",
       "      <td>Free entry in 2 a wkly comp to win FA Cup fina...</td>\n",
       "    </tr>\n",
       "    <tr>\n",
       "      <th>3</th>\n",
       "      <td>ham</td>\n",
       "      <td>U dun say so early hor... U c already then say...</td>\n",
       "    </tr>\n",
       "    <tr>\n",
       "      <th>4</th>\n",
       "      <td>ham</td>\n",
       "      <td>Nah I don't think he goes to usf, he lives aro...</td>\n",
       "    </tr>\n",
       "  </tbody>\n",
       "</table>\n",
       "</div>"
      ],
      "text/plain": [
       "  spam/ham                                      email message\n",
       "0      ham  Go until jurong point, crazy.. Available only ...\n",
       "1      ham                      Ok lar... Joking wif u oni...\n",
       "2     spam  Free entry in 2 a wkly comp to win FA Cup fina...\n",
       "3      ham  U dun say so early hor... U c already then say...\n",
       "4      ham  Nah I don't think he goes to usf, he lives aro..."
      ]
     },
     "execution_count": 4,
     "metadata": {},
     "output_type": "execute_result"
    }
   ],
   "source": [
    "emails.rename(columns = {'v1': 'spam/ham', 'v2': 'email message'}, inplace = True)\n",
    "emails.head()"
   ]
  },
  {
   "cell_type": "code",
   "execution_count": 5,
   "metadata": {},
   "outputs": [
    {
     "data": {
      "text/plain": [
       "ham     4825\n",
       "spam     747\n",
       "Name: spam/ham, dtype: int64"
      ]
     },
     "execution_count": 5,
     "metadata": {},
     "output_type": "execute_result"
    }
   ],
   "source": [
    "emails['spam/ham'].value_counts()"
   ]
  },
  {
   "cell_type": "code",
   "execution_count": 6,
   "metadata": {},
   "outputs": [
    {
     "data": {
      "text/html": [
       "<div>\n",
       "<style scoped>\n",
       "    .dataframe tbody tr th:only-of-type {\n",
       "        vertical-align: middle;\n",
       "    }\n",
       "\n",
       "    .dataframe tbody tr th {\n",
       "        vertical-align: top;\n",
       "    }\n",
       "\n",
       "    .dataframe thead th {\n",
       "        text-align: right;\n",
       "    }\n",
       "</style>\n",
       "<table border=\"1\" class=\"dataframe\">\n",
       "  <thead>\n",
       "    <tr style=\"text-align: right;\">\n",
       "      <th></th>\n",
       "      <th>spam/ham</th>\n",
       "      <th>email message</th>\n",
       "    </tr>\n",
       "  </thead>\n",
       "  <tbody>\n",
       "    <tr>\n",
       "      <th>0</th>\n",
       "      <td>0</td>\n",
       "      <td>Go until jurong point, crazy.. Available only ...</td>\n",
       "    </tr>\n",
       "    <tr>\n",
       "      <th>1</th>\n",
       "      <td>0</td>\n",
       "      <td>Ok lar... Joking wif u oni...</td>\n",
       "    </tr>\n",
       "    <tr>\n",
       "      <th>2</th>\n",
       "      <td>1</td>\n",
       "      <td>Free entry in 2 a wkly comp to win FA Cup fina...</td>\n",
       "    </tr>\n",
       "    <tr>\n",
       "      <th>3</th>\n",
       "      <td>0</td>\n",
       "      <td>U dun say so early hor... U c already then say...</td>\n",
       "    </tr>\n",
       "    <tr>\n",
       "      <th>4</th>\n",
       "      <td>0</td>\n",
       "      <td>Nah I don't think he goes to usf, he lives aro...</td>\n",
       "    </tr>\n",
       "  </tbody>\n",
       "</table>\n",
       "</div>"
      ],
      "text/plain": [
       "   spam/ham                                      email message\n",
       "0         0  Go until jurong point, crazy.. Available only ...\n",
       "1         0                      Ok lar... Joking wif u oni...\n",
       "2         1  Free entry in 2 a wkly comp to win FA Cup fina...\n",
       "3         0  U dun say so early hor... U c already then say...\n",
       "4         0  Nah I don't think he goes to usf, he lives aro..."
      ]
     },
     "execution_count": 6,
     "metadata": {},
     "output_type": "execute_result"
    }
   ],
   "source": [
    "emails['spam/ham'] = emails['spam/ham'].map({'ham': 0, 'spam': 1})\n",
    "emails.head()"
   ]
  },
  {
   "cell_type": "code",
   "execution_count": 7,
   "metadata": {},
   "outputs": [
    {
     "data": {
      "text/plain": [
       "5572"
      ]
     },
     "execution_count": 7,
     "metadata": {},
     "output_type": "execute_result"
    }
   ],
   "source": [
    "emails.shape[0]"
   ]
  },
  {
   "cell_type": "markdown",
   "metadata": {},
   "source": [
    "# splitting"
   ]
  },
  {
   "cell_type": "code",
   "execution_count": 8,
   "metadata": {},
   "outputs": [],
   "source": [
    "totalMails = 5572\n",
    "trainIndex, testIndex = list(), list()\n",
    "for i in range(emails.shape[0]):\n",
    "    if np.random.uniform(0, 1) < 0.80:\n",
    "        trainIndex += [i]\n",
    "    else:\n",
    "        testIndex += [i]\n",
    "trainData = emails.loc[trainIndex]\n",
    "testData = emails.loc[testIndex]"
   ]
  },
  {
   "cell_type": "code",
   "execution_count": 9,
   "metadata": {},
   "outputs": [],
   "source": [
    "trainData = trainData.reset_index()\n",
    "testData = testData.reset_index()"
   ]
  },
  {
   "cell_type": "code",
   "execution_count": 10,
   "metadata": {},
   "outputs": [
    {
     "data": {
      "text/plain": [
       "0    3854\n",
       "1     574\n",
       "Name: spam/ham, dtype: int64"
      ]
     },
     "execution_count": 10,
     "metadata": {},
     "output_type": "execute_result"
    }
   ],
   "source": [
    "trainData['spam/ham'].value_counts()"
   ]
  },
  {
   "cell_type": "code",
   "execution_count": 11,
   "metadata": {},
   "outputs": [
    {
     "data": {
      "text/plain": [
       "0    971\n",
       "1    173\n",
       "Name: spam/ham, dtype: int64"
      ]
     },
     "execution_count": 11,
     "metadata": {},
     "output_type": "execute_result"
    }
   ],
   "source": [
    "testData['spam/ham'].value_counts()"
   ]
  },
  {
   "cell_type": "code",
   "execution_count": 12,
   "metadata": {},
   "outputs": [],
   "source": [
    "#spam_words = ' '.join(list(emails[emails['spam/ham'] == 1]['email message']))\n",
    "#spam_wc = WordCloud(width = 512,height = 512).generate(spam_words)\n",
    "#plt.figure(figsize = (10, 8), facecolor = 'k')\n",
    "#plt.imshow(spam_wc)\n",
    "#plt.axis('off')\n",
    "#plt.tight_layout(pad = 0)\n",
    "#plt.show()"
   ]
  },
  {
   "cell_type": "code",
   "execution_count": 13,
   "metadata": {},
   "outputs": [],
   "source": [
    "#ham_words = ' '.join(list(emails[emails['spam/ham'] == 0]['email message']))\n",
    "#ham_wc = WordCloud(width = 512,height = 512).generate(ham_words)\n",
    "#plt.figure(figsize = (10, 8), facecolor = 'k')\n",
    "#plt.imshow(ham_wc)\n",
    "#plt.axis('off')\n",
    "#plt.tight_layout(pad = 0)\n",
    "#plt.show()"
   ]
  },
  {
   "cell_type": "code",
   "execution_count": 14,
   "metadata": {},
   "outputs": [
    {
     "data": {
      "text/plain": [
       "4428"
      ]
     },
     "execution_count": 14,
     "metadata": {},
     "output_type": "execute_result"
    }
   ],
   "source": [
    "X = np.array(trainData)\n",
    "len(X)"
   ]
  },
  {
   "cell_type": "markdown",
   "metadata": {},
   "source": [
    "# Text Pre Processing"
   ]
  },
  {
   "cell_type": "code",
   "execution_count": 18,
   "metadata": {},
   "outputs": [],
   "source": [
    "def text_process(mess):\n",
    "    mess = mess.lower()\n",
    "    nopunc =[char for char in mess if char not in string.punctuation]\n",
    "    nopunc=''.join(nopunc)\n",
    "    return [word for word in nopunc.split() if word.lower() not in stopwords.words('english')]"
   ]
  },
  {
   "cell_type": "code",
   "execution_count": 19,
   "metadata": {},
   "outputs": [],
   "source": [
    "processed_trainData = trainData['email message'].apply(text_process)"
   ]
  },
  {
   "cell_type": "code",
   "execution_count": 20,
   "metadata": {},
   "outputs": [
    {
     "data": {
      "text/html": [
       "<div>\n",
       "<style scoped>\n",
       "    .dataframe tbody tr th:only-of-type {\n",
       "        vertical-align: middle;\n",
       "    }\n",
       "\n",
       "    .dataframe tbody tr th {\n",
       "        vertical-align: top;\n",
       "    }\n",
       "\n",
       "    .dataframe thead th {\n",
       "        text-align: right;\n",
       "    }\n",
       "</style>\n",
       "<table border=\"1\" class=\"dataframe\">\n",
       "  <thead>\n",
       "    <tr style=\"text-align: right;\">\n",
       "      <th></th>\n",
       "      <th>index</th>\n",
       "      <th>spam/ham</th>\n",
       "      <th>email message</th>\n",
       "    </tr>\n",
       "  </thead>\n",
       "  <tbody>\n",
       "    <tr>\n",
       "      <th>0</th>\n",
       "      <td>3</td>\n",
       "      <td>0</td>\n",
       "      <td>U dun say so early hor... U c already then say...</td>\n",
       "    </tr>\n",
       "    <tr>\n",
       "      <th>1</th>\n",
       "      <td>13</td>\n",
       "      <td>0</td>\n",
       "      <td>I've been searching for the right words to tha...</td>\n",
       "    </tr>\n",
       "    <tr>\n",
       "      <th>2</th>\n",
       "      <td>15</td>\n",
       "      <td>1</td>\n",
       "      <td>XXXMobileMovieClub: To use your credit, click ...</td>\n",
       "    </tr>\n",
       "    <tr>\n",
       "      <th>3</th>\n",
       "      <td>17</td>\n",
       "      <td>0</td>\n",
       "      <td>Eh u remember how 2 spell his name... Yes i di...</td>\n",
       "    </tr>\n",
       "    <tr>\n",
       "      <th>4</th>\n",
       "      <td>33</td>\n",
       "      <td>0</td>\n",
       "      <td>For fear of fainting with the of all that hous...</td>\n",
       "    </tr>\n",
       "  </tbody>\n",
       "</table>\n",
       "</div>"
      ],
      "text/plain": [
       "   index  spam/ham                                      email message\n",
       "0      3         0  U dun say so early hor... U c already then say...\n",
       "1     13         0  I've been searching for the right words to tha...\n",
       "2     15         1  XXXMobileMovieClub: To use your credit, click ...\n",
       "3     17         0  Eh u remember how 2 spell his name... Yes i di...\n",
       "4     33         0  For fear of fainting with the of all that hous..."
      ]
     },
     "execution_count": 20,
     "metadata": {},
     "output_type": "execute_result"
    }
   ],
   "source": [
    "testData.head()"
   ]
  },
  {
   "cell_type": "markdown",
   "metadata": {},
   "source": [
    "# Dictionary"
   ]
  },
  {
   "cell_type": "code",
   "execution_count": 21,
   "metadata": {},
   "outputs": [],
   "source": [
    "def dictionary_func(mess, label):\n",
    "    for i in range(len(mess)):\n",
    "        if mess[i] in dictionary:\n",
    "            count[dictionary.index(mess[i])] = count[dictionary.index(mess[i])]  + 1\n",
    "            if(label == 1):\n",
    "                spam[dictionary.index(mess[i])] = spam[dictionary.index(mess[i])] + 1\n",
    "                \n",
    "            else:\n",
    "                ham[dictionary.index(mess[i])] = ham[dictionary.index(mess[i])] + 1\n",
    "        else: \n",
    "            dictionary.append(mess[i])\n",
    "            count.append(1)\n",
    "            if(label == 1):\n",
    "                spam.append(1)\n",
    "                ham.append(0)\n",
    "            else:\n",
    "                ham.append(1)\n",
    "                spam.append(0)\n",
    "    "
   ]
  },
  {
   "cell_type": "code",
   "execution_count": 22,
   "metadata": {
    "scrolled": true
   },
   "outputs": [
    {
     "name": "stdout",
     "output_type": "stream",
     "text": [
      "8165\n",
      "8165\n",
      "8165\n",
      "8165\n"
     ]
    }
   ],
   "source": [
    "dictionary = []\n",
    "count = []\n",
    "spam = []\n",
    "ham = []\n",
    "\n",
    "for i in range(len(processed_trainData)):\n",
    "    X = trainData.iloc[i]\n",
    "    label = X[1]\n",
    "    dictionary_func(processed_trainData[i],label)\n",
    "print(len(count))\n",
    "print(len(ham))\n",
    "print(len(spam))\n",
    "print(len(dictionary))"
   ]
  },
  {
   "cell_type": "code",
   "execution_count": 23,
   "metadata": {},
   "outputs": [],
   "source": [
    "X = trainData['spam/ham'].value_counts()\n",
    "count_of_spam = X[1]\n",
    "count_of_ham = X[0]"
   ]
  },
  {
   "cell_type": "code",
   "execution_count": 24,
   "metadata": {},
   "outputs": [],
   "source": [
    "probability_of_spam = float(count_of_spam)/ len(trainData)\n",
    "probability_of_ham = float(count_of_ham)/ len(trainData)"
   ]
  },
  {
   "cell_type": "code",
   "execution_count": 25,
   "metadata": {},
   "outputs": [
    {
     "data": {
      "text/plain": [
       "0.8703703703703703"
      ]
     },
     "execution_count": 25,
     "metadata": {},
     "output_type": "execute_result"
    }
   ],
   "source": [
    "probability_of_ham"
   ]
  },
  {
   "cell_type": "code",
   "execution_count": 26,
   "metadata": {},
   "outputs": [],
   "source": [
    "total_words_in_spam = np.count_nonzero(spam)\n",
    "total_words_in_ham = np.count_nonzero(ham)"
   ]
  },
  {
   "cell_type": "code",
   "execution_count": null,
   "metadata": {},
   "outputs": [],
   "source": []
  },
  {
   "cell_type": "markdown",
   "metadata": {},
   "source": [
    "# Probabiity of Word in Dictionary"
   ]
  },
  {
   "cell_type": "code",
   "execution_count": 27,
   "metadata": {},
   "outputs": [],
   "source": [
    "probability_of_words = []\n",
    "for i in range(len(dictionary)):\n",
    "    total_occurance_of_word_in_train = spam[i] + ham[i]\n",
    "    probability_of_word = float(total_occurance_of_word_in_train)/float(len(dictionary))\n",
    "    probability_of_words.append(probability_of_word)"
   ]
  },
  {
   "cell_type": "markdown",
   "metadata": {},
   "source": [
    "# Probability of a word in spam"
   ]
  },
  {
   "cell_type": "code",
   "execution_count": 28,
   "metadata": {},
   "outputs": [],
   "source": [
    "def func_probability_of_each_word_in_spam(processed_message):\n",
    "    probability_of_each_word_in_spam = []\n",
    "    probability_of_each_word_in_ham = []\n",
    "    #print(processed_message.shape)\n",
    "    for i in range(len(processed_message)):\n",
    "        if processed_message[i] in dictionary:\n",
    "            #print(\"processed_message[i]\",processed_message[i])\n",
    "            if spam[dictionary.index(processed_message[i])] != 0:\n",
    "                probability_of_word_in_spam = (float(spam[(dictionary.index(processed_message[i]))])) / (float(total_words_in_spam))\n",
    "                \n",
    "            else:\n",
    "                probability_of_word_in_spam = (1.0)/  float(sum(spam))\n",
    "        else:\n",
    "            #print(\"Not present\")\n",
    "            probability_of_word_in_spam = (1.0)/ float(sum(spam) +sum(ham))\n",
    "        probability_of_each_word_in_spam.append(probability_of_word_in_spam)\n",
    "        #print(dictionary[dictionary.index(processed_message[i])],\":\",probability_of_word_in_spam)\n",
    "        #print(len(probability_of_each_word_in_spam))\n",
    "    return probability_of_each_word_in_spam"
   ]
  },
  {
   "cell_type": "markdown",
   "metadata": {},
   "source": [
    "# Probability of a word in ham"
   ]
  },
  {
   "cell_type": "code",
   "execution_count": 29,
   "metadata": {},
   "outputs": [],
   "source": [
    "def func_probability_of_each_word_in_ham(processed_message):\n",
    "    probability_of_each_word_in_spam = []\n",
    "    probability_of_each_word_in_ham = []\n",
    "    #print(processed_message.shape)\n",
    "    alpha = 1\n",
    "    for i in range(len(processed_message)):\n",
    "        if processed_message[i] in dictionary:\n",
    "            #print(\"processed_message[i]\",processed_message[i])\n",
    "            if ham[dictionary.index(processed_message[i])] != 0:\n",
    "                probability_of_word_in_ham = (float(ham[(dictionary.index(processed_message[i]))])) / (float(total_words_in_ham))\n",
    "                \n",
    "            else:\n",
    "                #print(\"Not present\")\n",
    "                probability_of_word_in_ham = (1.0)/  float(sum(ham))\n",
    "                \n",
    "        else:\n",
    "            #print(\"Not present\")\n",
    "            probability_of_word_in_ham = (1.0)/ float(sum(spam) +sum(ham))\n",
    "        #print(dictionary[dictionary.index(processed_message[i])],\":\",probability_of_word_in_ham)\n",
    "        probability_of_each_word_in_ham.append(probability_of_word_in_ham)\n",
    "    return probability_of_each_word_in_ham"
   ]
  },
  {
   "cell_type": "markdown",
   "metadata": {},
   "source": [
    "# Probability of spam for a message"
   ]
  },
  {
   "cell_type": "code",
   "execution_count": 30,
   "metadata": {},
   "outputs": [],
   "source": [
    "def probability_of_spam_for_a_message(probability_of_each_word_in_spam):\n",
    "    probability_of_spam_with_given_word = 1\n",
    "    for i in range( len(probability_of_each_word_in_spam)):\n",
    "        #print(\"word with given spam\")\n",
    "        #print(probability_of_each_word_in_spam[i])\n",
    "        probability_of_spam_with_given_word *= probability_of_each_word_in_spam[i]\n",
    "   # print(\"spam with given word part1\")\n",
    "   # print(probability_of_spam_with_given_word)\n",
    "    probability_of_spam_with_given_word *= probability_of_spam\n",
    "   # print(\"spam with given word part2\")\n",
    "   # print(probability_of_spam_with_given_word)\n",
    "    return probability_of_spam_with_given_word"
   ]
  },
  {
   "cell_type": "markdown",
   "metadata": {},
   "source": [
    "# probability of ham for a message"
   ]
  },
  {
   "cell_type": "code",
   "execution_count": 31,
   "metadata": {},
   "outputs": [],
   "source": [
    "def probability_of_ham_for_a_message(probability_of_each_word_in_ham):\n",
    "    probability_of_ham_with_given_word = 1\n",
    "    for i in range( len(probability_of_each_word_in_ham)):\n",
    "        \n",
    "        #print(\"word with given spam\")\n",
    "        #print(probability_of_each_word_in_spam[i])\n",
    "        probability_of_ham_with_given_word *= probability_of_each_word_in_ham[i]\n",
    "    #print(\"ham with given word part1\")\n",
    "   # print(probability_of_ham_with_given_word)\n",
    "    probability_of_ham_with_given_word = probability_of_ham_with_given_word * probability_of_ham\n",
    "   # print(\"ham with given word part2\")\n",
    "    #print(probability_of_ham_with_given_word)\n",
    "    return probability_of_ham_with_given_word"
   ]
  },
  {
   "cell_type": "code",
   "execution_count": null,
   "metadata": {},
   "outputs": [],
   "source": []
  },
  {
   "cell_type": "code",
   "execution_count": 34,
   "metadata": {},
   "outputs": [
    {
     "data": {
      "text/plain": [
       "['heyy', 'name', 'diksha']"
      ]
     },
     "execution_count": 34,
     "metadata": {},
     "output_type": "execute_result"
    }
   ],
   "source": [
    "message = \"Heyy my name is Diksha\"\n",
    "processed_message = text_process(message)\n",
    "(processed_message)"
   ]
  },
  {
   "cell_type": "code",
   "execution_count": 35,
   "metadata": {},
   "outputs": [],
   "source": [
    "X = trainData.iloc[:,2]"
   ]
  },
  {
   "cell_type": "markdown",
   "metadata": {},
   "source": [
    "# Training "
   ]
  },
  {
   "cell_type": "code",
   "execution_count": 36,
   "metadata": {},
   "outputs": [],
   "source": [
    "probability_spam = []\n",
    "probability_ham  = []\n",
    "for i in range(len(trainData)):\n",
    "    processed_message = text_process(X[i])\n",
    "    probability_of_each_word_in_spam = func_probability_of_each_word_in_spam(processed_message)\n",
    "    A = probability_of_spam_for_a_message(probability_of_each_word_in_spam)\n",
    "    probability_spam.append(A)\n",
    "    probability_of_each_word_in_ham = func_probability_of_each_word_in_ham(processed_message)\n",
    "    B = probability_of_ham_for_a_message(probability_of_each_word_in_ham)\n",
    "    probability_ham.append(B)                         "
   ]
  },
  {
   "cell_type": "markdown",
   "metadata": {},
   "source": [
    "# classification and Prediction"
   ]
  },
  {
   "cell_type": "code",
   "execution_count": 37,
   "metadata": {},
   "outputs": [],
   "source": [
    "spam_or_ham = []\n",
    "for i in range(len(trainData)):\n",
    "    if probability_ham[i] > probability_spam[i]:\n",
    "        spam_or_ham.append(0)\n",
    "    else:\n",
    "        spam_or_ham.append(1)"
   ]
  },
  {
   "cell_type": "code",
   "execution_count": null,
   "metadata": {},
   "outputs": [],
   "source": []
  },
  {
   "cell_type": "code",
   "execution_count": 38,
   "metadata": {},
   "outputs": [],
   "source": [
    "target = trainData.iloc[:,1]\n",
    "target = np.array(target)\n",
    "predicted = (spam_or_ham)\n",
    "predicted = np.array(predicted)\n",
    "\n",
    "x = predicted[0]\n",
    "predicted.dtype\n",
    "predicted = predicted.astype(np.int)\n"
   ]
  },
  {
   "cell_type": "markdown",
   "metadata": {},
   "source": [
    "# Accuracy on Training Data"
   ]
  },
  {
   "cell_type": "code",
   "execution_count": 39,
   "metadata": {},
   "outputs": [],
   "source": [
    "def Accuracy(p,Data):\n",
    "    count = 0\n",
    "    for i in range(len(Data)):\n",
    "        if p[i]== target[i]:\n",
    "            count = count +1\n",
    "    \n",
    "    return float(count)/float(len(Data)) * 100.0"
   ]
  },
  {
   "cell_type": "code",
   "execution_count": 40,
   "metadata": {},
   "outputs": [
    {
     "data": {
      "text/plain": [
       "99.52574525745257"
      ]
     },
     "execution_count": 40,
     "metadata": {},
     "output_type": "execute_result"
    }
   ],
   "source": [
    "accuracy = Accuracy(predicted, trainData)\n",
    "accuracy"
   ]
  },
  {
   "cell_type": "markdown",
   "metadata": {},
   "source": [
    "# On Test Data"
   ]
  },
  {
   "cell_type": "code",
   "execution_count": 41,
   "metadata": {},
   "outputs": [],
   "source": [
    "Y = testData.iloc[:,2]"
   ]
  },
  {
   "cell_type": "code",
   "execution_count": 42,
   "metadata": {},
   "outputs": [],
   "source": [
    "probability_spam_test = []\n",
    "probability_ham_test = []\n",
    "for i in range(0,len(testData)):\n",
    "    processed_message = text_process(Y[i])\n",
    "    probability_of_each_word_in_spam = func_probability_of_each_word_in_spam(processed_message)\n",
    "    A = probability_of_spam_for_a_message(probability_of_each_word_in_spam)\n",
    "    probability_spam_test.append(A)\n",
    "    probability_of_each_word_in_ham = func_probability_of_each_word_in_ham(processed_message)\n",
    "    B = probability_of_ham_for_a_message(probability_of_each_word_in_ham)\n",
    "    probability_ham_test.append(B)                         "
   ]
  },
  {
   "cell_type": "code",
   "execution_count": 43,
   "metadata": {},
   "outputs": [],
   "source": [
    "spam_or_ham_test = []\n",
    "for i in range(len(testData)):\n",
    "    if probability_ham_test[i] > probability_spam_test[i]:\n",
    "        spam_or_ham_test.append(0)\n",
    "    else:\n",
    "        spam_or_ham_test.append(1)"
   ]
  },
  {
   "cell_type": "code",
   "execution_count": 44,
   "metadata": {},
   "outputs": [],
   "source": [
    "target = testData.iloc[:,1]\n",
    "target = np.array(target)\n",
    "predicted_test = (spam_or_ham_test)\n",
    "predicted_test = np.array(predicted)\n",
    "\n",
    "x = predicted_test[0]\n",
    "predicted_test.dtype\n",
    "predicted_test = predicted_test.astype(np.int)\n"
   ]
  },
  {
   "cell_type": "markdown",
   "metadata": {},
   "source": [
    "# Accuracy on Test Data"
   ]
  },
  {
   "cell_type": "code",
   "execution_count": 45,
   "metadata": {},
   "outputs": [
    {
     "data": {
      "text/plain": [
       "74.12587412587412"
      ]
     },
     "execution_count": 45,
     "metadata": {},
     "output_type": "execute_result"
    }
   ],
   "source": [
    "accuracy = Accuracy(predicted_test,testData)\n",
    "accuracy"
   ]
  },
  {
   "cell_type": "code",
   "execution_count": null,
   "metadata": {},
   "outputs": [],
   "source": []
  }
 ],
 "metadata": {
  "kernelspec": {
   "display_name": "Python 3",
   "language": "python",
   "name": "python3"
  },
  "language_info": {
   "codemirror_mode": {
    "name": "ipython",
    "version": 3
   },
   "file_extension": ".py",
   "mimetype": "text/x-python",
   "name": "python",
   "nbconvert_exporter": "python",
   "pygments_lexer": "ipython3",
   "version": "3.6.5"
  }
 },
 "nbformat": 4,
 "nbformat_minor": 2
}
